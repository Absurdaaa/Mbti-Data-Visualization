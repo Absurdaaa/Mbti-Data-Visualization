{
 "cells": [
  {
   "cell_type": "code",
   "execution_count": 1,
   "metadata": {},
   "outputs": [
    {
     "name": "stdout",
     "output_type": "stream",
     "text": [
      "CSV 文件处理完毕并已保存为 'merged_personality.csv'.\n"
     ]
    }
   ],
   "source": [
    "import pandas as pd\n",
    "\n",
    "# 读取原始CSV文件\n",
    "df = pd.read_csv('mp_3/countries.csv')\n",
    "\n",
    "# 提取人格类型列（前16个列）\n",
    "personality_columns = df.columns[1:]  # 假设第一列是国家名称，其余为人格类型数据\n",
    "\n",
    "# 创建一个字典来存储合并后的数据\n",
    "merged_data = {}\n",
    "\n",
    "# 遍历每一行（即每个国家）\n",
    "for index, row in df.iterrows():\n",
    "    country = row['Country']\n",
    "    merged_row = {}\n",
    "    \n",
    "    # 对每一人格类型（A和T）\n",
    "    for personality in set(col.split('-')[0] for col in personality_columns):\n",
    "        # 取出该人格的所有-A和-T的列\n",
    "        a_column = f\"{personality}-A\"\n",
    "        t_column = f\"{personality}-T\"\n",
    "        \n",
    "        # 合并-A和-T的值\n",
    "        total = 0\n",
    "        if a_column in df.columns:\n",
    "            total += row[a_column]\n",
    "        if t_column in df.columns:\n",
    "            total += row[t_column]\n",
    "        \n",
    "        merged_row[personality] = total\n",
    "    \n",
    "    # 把合并后的结果保存到字典\n",
    "    merged_data[country] = merged_row\n",
    "\n",
    "# 将合并后的数据转化为DataFrame\n",
    "merged_df = pd.DataFrame.from_dict(merged_data, orient='index')\n",
    "\n",
    "# 导出合并后的DataFrame为CSV文件\n",
    "merged_df.to_csv('merged_personality.csv')\n",
    "\n",
    "print(\"CSV 文件处理完毕并已保存为 'merged_personality.csv'.\")\n"
   ]
  }
 ],
 "metadata": {
  "kernelspec": {
   "display_name": "base",
   "language": "python",
   "name": "python3"
  },
  "language_info": {
   "codemirror_mode": {
    "name": "ipython",
    "version": 3
   },
   "file_extension": ".py",
   "mimetype": "text/x-python",
   "name": "python",
   "nbconvert_exporter": "python",
   "pygments_lexer": "ipython3",
   "version": "3.11.7"
  }
 },
 "nbformat": 4,
 "nbformat_minor": 2
}
